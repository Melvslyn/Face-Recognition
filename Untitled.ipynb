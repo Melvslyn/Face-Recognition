{
 "cells": [
  {
   "cell_type": "code",
   "execution_count": null,
   "id": "8396e537",
   "metadata": {},
   "outputs": [],
   "source": [
    "import pymongo\n",
    "\n",
    "client = pymongo.MongoClient('mongodb://localhost:2707/')\n",
    "\n",
    "db = client['IT301']\n",
    "\n",
    "collection = db['restaurants']\n",
    "\n",
    "documents = collection.find()\n",
    "\n",
    "for document in documents:\n",
    "    print(document)"
   ]
  },
  {
   "cell_type": "code",
   "execution_count": null,
   "id": "003ce1c2",
   "metadata": {},
   "outputs": [],
   "source": [
    "pip uninstall pymongo"
   ]
  },
  {
   "cell_type": "code",
   "execution_count": null,
   "id": "22eadadc",
   "metadata": {},
   "outputs": [],
   "source": []
  },
  {
   "cell_type": "code",
   "execution_count": null,
   "id": "dd4a7e4d",
   "metadata": {},
   "outputs": [],
   "source": []
  }
 ],
 "metadata": {
  "kernelspec": {
   "display_name": "Python 3 (ipykernel)",
   "language": "python",
   "name": "python3"
  },
  "language_info": {
   "codemirror_mode": {
    "name": "ipython",
    "version": 3
   },
   "file_extension": ".py",
   "mimetype": "text/x-python",
   "name": "python",
   "nbconvert_exporter": "python",
   "pygments_lexer": "ipython3",
   "version": "3.9.16"
  }
 },
 "nbformat": 4,
 "nbformat_minor": 5
}
